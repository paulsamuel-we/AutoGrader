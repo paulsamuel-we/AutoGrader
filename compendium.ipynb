{
 "cells": [
  {
   "cell_type": "code",
   "execution_count": 7,
   "metadata": {},
   "outputs": [],
   "source": [
    "import os\n",
    "import pandas as pd\n",
    "import numpy as np\n",
    "import cv2\n",
    "\n",
    "from ultralytics import YOLO\n",
    "\n",
    "import importlib\n",
    "\n",
    "import sparse_roll_number\n",
    "importlib.reload(sparse_roll_number)\n",
    "\n",
    "import sparse_mark\n",
    "importlib.reload(sparse_mark)\n",
    "\n",
    "from sparse_roll_number import get_roll\n",
    "from sparse_mark import get_mark\n"
   ]
  },
  {
   "cell_type": "markdown",
   "metadata": {},
   "source": [
    "class_id\n",
    "\n",
    "1.0 ---> question\n",
    "2.0 ---> roll_no\n",
    "0.0 ---> grand_total"
   ]
  },
  {
   "cell_type": "code",
   "execution_count": 8,
   "metadata": {},
   "outputs": [
    {
     "name": "stdout",
     "output_type": "stream",
     "text": [
      "\n",
      "0: 640x480 1 grand_total, 15 questions, 1 roll_no, 124.7ms\n",
      "Speed: 4.0ms preprocess, 124.7ms inference, 1.0ms postprocess per image at shape (1, 3, 640, 480)\n",
      "\n",
      "0: 640x288 1 co, 1 mark, 1 no, 183.9ms\n",
      "Speed: 3.0ms preprocess, 183.9ms inference, 1.0ms postprocess per image at shape (1, 3, 640, 288)\n",
      "\n",
      "0: 128x640 1 0, 1 22, 2 6s, 1 BAD, 102.0ms\n",
      "Speed: 1.0ms preprocess, 102.0ms inference, 2.0ms postprocess per image at shape (1, 3, 128, 640)\n",
      "\n",
      "0: 640x288 1 co, 1 mark, 1 no, 106.2ms\n",
      "Speed: 3.3ms preprocess, 106.2ms inference, 1.0ms postprocess per image at shape (1, 3, 640, 288)\n",
      "\n",
      "0: 640x288 1 co, 1 mark, 1 no, 134.1ms\n",
      "Speed: 0.9ms preprocess, 134.1ms inference, 1.0ms postprocess per image at shape (1, 3, 640, 288)\n",
      "\n",
      "0: 640x288 1 co, 1 mark, 1 no, 156.4ms\n",
      "Speed: 3.1ms preprocess, 156.4ms inference, 1.0ms postprocess per image at shape (1, 3, 640, 288)\n",
      "\n",
      "0: 640x288 1 co, 1 mark, 1 no, 221.2ms\n",
      "Speed: 1.9ms preprocess, 221.2ms inference, 2.0ms postprocess per image at shape (1, 3, 640, 288)\n",
      "\n",
      "0: 640x288 1 co, 1 mark, 1 no, 97.2ms\n",
      "Speed: 2.2ms preprocess, 97.2ms inference, 2.0ms postprocess per image at shape (1, 3, 640, 288)\n",
      "\n",
      "0: 640x288 1 co, 1 mark, 1 no, 103.8ms\n",
      "Speed: 2.1ms preprocess, 103.8ms inference, 2.0ms postprocess per image at shape (1, 3, 640, 288)\n",
      "\n",
      "0: 640x288 1 co, 1 mark, 1 no, 140.9ms\n",
      "Speed: 2.9ms preprocess, 140.9ms inference, 1.0ms postprocess per image at shape (1, 3, 640, 288)\n",
      "\n",
      "0: 640x288 1 co, 1 mark, 1 no, 138.8ms\n",
      "Speed: 1.9ms preprocess, 138.8ms inference, 2.0ms postprocess per image at shape (1, 3, 640, 288)\n",
      "\n",
      "0: 640x288 1 co, 1 mark, 1 no, 120.7ms\n",
      "Speed: 3.0ms preprocess, 120.7ms inference, 1.0ms postprocess per image at shape (1, 3, 640, 288)\n",
      "\n",
      "0: 640x288 1 co, 1 mark, 1 no, 115.1ms\n",
      "Speed: 2.0ms preprocess, 115.1ms inference, 1.1ms postprocess per image at shape (1, 3, 640, 288)\n",
      "\n",
      "0: 288x640 1 0, 1 3, 212.7ms\n",
      "Speed: 3.3ms preprocess, 212.7ms inference, 2.5ms postprocess per image at shape (1, 3, 288, 640)\n",
      "\n",
      "0: 640x288 1 co, 1 mark, 1 no, 215.0ms\n",
      "Speed: 2.0ms preprocess, 215.0ms inference, 2.0ms postprocess per image at shape (1, 3, 640, 288)\n",
      "\n",
      "0: 640x288 1 co, 1 mark, 1 no, 180.8ms\n",
      "Speed: 4.9ms preprocess, 180.8ms inference, 1.0ms postprocess per image at shape (1, 3, 640, 288)\n",
      "\n",
      "0: 640x288 1 co, 1 mark, 1 no, 154.0ms\n",
      "Speed: 1.9ms preprocess, 154.0ms inference, 1.0ms postprocess per image at shape (1, 3, 640, 288)\n",
      "\n",
      "0: 640x288 1 co, 1 mark, 1 no, 172.6ms\n",
      "Speed: 2.0ms preprocess, 172.6ms inference, 1.0ms postprocess per image at shape (1, 3, 640, 288)\n"
     ]
    }
   ],
   "source": [
    "final_result = {'roll_number': None, 'question' : {}, 'Grand_total' : None}\n",
    "# Load your custom YOLOv8 model\n",
    "model = YOLO(r\"models/first_model.pt\")  # Replace with the correct path\n",
    "\n",
    "# Define image directory\n",
    "image_dir = r\"E:\\OCR PROJECT - new version\\Dataset\\Front Page\\test-paper-1_5_jpg.rf.f6a9ffa92a16db5b4037f64fb49b476b.jpg\"\n",
    "\n",
    "image = cv2.imread(image_dir)\n",
    "\n",
    "results = model(image)[0]  # Run model inference\n",
    "\n",
    "# Loop through all detected objects and save each\n",
    "i = 0  # Counter for unique filenames\n",
    "for detection in results.boxes.data.tolist():\n",
    "    x1, y1, x2, y2, score, class_id = detection\n",
    "\n",
    "    # Crop the image\n",
    "    cropped_image = image[int(y1):int(y2), int(x1):int(x2)].copy()\n",
    "\n",
    "    if class_id == 1.0: # Question\n",
    "        # Load your custom YOLOv8 model\n",
    "        modelq = YOLO(r\"E:\\OCR PROJECT - new version\\models\\q.pt\")  # Replace with the correct path\n",
    "\n",
    "        qresults = modelq(cropped_image)[0]  # Run model inference\n",
    "\n",
    "        for qdetection in qresults.boxes.data.tolist():\n",
    "            qx1, qy1, qx2, qy2, qscore, qclass_id = qdetection\n",
    "\n",
    "            cropped_image2 = cropped_image[int(qy1):int(qy2), int(qx1):int(qx2)].copy()\n",
    "            if qclass_id == 1.0: # mark\n",
    "                pass\n",
    "            if qclass_id == 2.0: # no\n",
    "                pass\n",
    "            if qclass_id == 0.0: # co\n",
    "                pass\n",
    "\n",
    "    if class_id == 2.0: # roll number\n",
    "        roll = get_roll(cropped_image)\n",
    "        final_result['roll_number'] = roll\n",
    "\n",
    "    if class_id == 0.0: # Grand Total\n",
    "        mark = get_mark(cropped_image)\n",
    "        final_result['Grand_total'] = mark"
   ]
  },
  {
   "cell_type": "code",
   "execution_count": 10,
   "metadata": {},
   "outputs": [
    {
     "name": "stdout",
     "output_type": "stream",
     "text": [
      "{'roll_number': '22BAD066', 'question': {}, 'Grand_total': '30'}\n"
     ]
    }
   ],
   "source": [
    "print(final_result)"
   ]
  }
 ],
 "metadata": {
  "kernelspec": {
   "display_name": "Python 3",
   "language": "python",
   "name": "python3"
  },
  "language_info": {
   "codemirror_mode": {
    "name": "ipython",
    "version": 3
   },
   "file_extension": ".py",
   "mimetype": "text/x-python",
   "name": "python",
   "nbconvert_exporter": "python",
   "pygments_lexer": "ipython3",
   "version": "3.11.5"
  }
 },
 "nbformat": 4,
 "nbformat_minor": 2
}
