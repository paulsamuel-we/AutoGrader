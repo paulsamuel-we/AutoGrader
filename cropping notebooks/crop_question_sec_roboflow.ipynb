{
 "cells": [
  {
   "cell_type": "code",
   "execution_count": 1,
   "metadata": {},
   "outputs": [],
   "source": [
    "import cv2\n",
    "import os\n",
    "from roboflow import Roboflow\n",
    "\n",
    "# import the inference-sdk\n",
    "from inference_sdk import InferenceHTTPClient\n",
    "\n",
    "# initialize the client\n",
    "CLIENT = InferenceHTTPClient(\n",
    "    api_url=\"http://detect.roboflow.com\",\n",
    "    api_key=\"rkJEYbBxdZ7x6j4ZFHVF\"\n",
    ")\n",
    "api_key=\"rkJEYbBxdZ7x6j4ZFHVF\"\n",
    "model_id = \"question_section/2\"\n"
   ]
  },
  {
   "cell_type": "code",
   "execution_count": 31,
   "metadata": {},
   "outputs": [],
   "source": [
    "from inference_sdk import InferenceHTTPClient\n",
    "from PIL import Image, ImageDraw\n",
    "import os\n",
    "\n",
    "# Initialize the client with your API details\n",
    "CLIENT = InferenceHTTPClient(\n",
    "    api_url=\"http://detect.roboflow.com\",\n",
    "    api_key=\"rkJEYbBxdZ7x6j4ZFHVF\"\n",
    ")\n",
    "\n",
    "# Define the image folder path and output folder path\n",
    "image_folder = r\"C:\\Users\\pauls\\OneDrive\\Desktop\\OCR PROJECT\\cropped\\question\"\n",
    "output_folder = r\"C:\\Users\\pauls\\OneDrive\\Desktop\\OCR PROJECT\\question_noresize\"\n",
    "\n",
    "# Create the output folder if it doesn't exist\n",
    "os.makedirs(output_folder, exist_ok=True)\n",
    "\n",
    "for filename in os.listdir(image_folder):\n",
    "    if filename.endswith(\".jpg\") or filename.endswith(\".png\"):  # Handle both common image formats\n",
    "        image_path = os.path.join(image_folder, filename)\n",
    "\n",
    "        # Infer on the image\n",
    "        result = CLIENT.infer(image_path, model_id=\"question_section/2\")\n",
    "\n",
    "        if result is not None:  # Check for successful inference\n",
    "            image = Image.open(image_path)\n",
    "\n",
    "            for prediction in result[\"predictions\"]:\n",
    "                # Calculate bounding box coordinates\n",
    "                x1 = int(prediction[\"x\"] - prediction[\"width\"] / 2)\n",
    "                y1 = int(prediction[\"y\"] - prediction[\"height\"] / 2)\n",
    "                x2 = int(prediction[\"x\"] + prediction[\"width\"] / 2)\n",
    "                y2 = int(prediction[\"y\"] + prediction[\"height\"] / 2)\n",
    "\n",
    "                # Create a cropped image\n",
    "                cropped_image = image.crop((x1, y1, x2, y2))\n",
    "\n",
    "                # Create the class folder if it doesn't exist\n",
    "                class_folder = os.path.join(output_folder, prediction[\"class\"])\n",
    "                os.makedirs(class_folder, exist_ok=True)\n",
    "\n",
    "                # Generate an output filename with the same extension as the original image\n",
    "                output_filename = f\"{filename.split('.')[0]}{prediction['class']}{prediction['detection_id']}.{filename.split('.')[-1]}\"\n",
    "                output_path = os.path.join(class_folder, output_filename)\n",
    "\n",
    "                # Save the cropped image\n",
    "                cropped_image.save(output_path)\n",
    "\n",
    "        else:\n",
    "            print(f\"Error: Inference failed for image: {filename}\")\n"
   ]
  }
 ],
 "metadata": {
  "kernelspec": {
   "display_name": "Python 3",
   "language": "python",
   "name": "python3"
  },
  "language_info": {
   "codemirror_mode": {
    "name": "ipython",
    "version": 3
   },
   "file_extension": ".py",
   "mimetype": "text/x-python",
   "name": "python",
   "nbconvert_exporter": "python",
   "pygments_lexer": "ipython3",
   "version": "3.11.3"
  }
 },
 "nbformat": 4,
 "nbformat_minor": 2
}
